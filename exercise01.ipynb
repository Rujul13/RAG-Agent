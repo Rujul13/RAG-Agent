{
  "cells": [
    {
      "source": [
        "!pip install llama-index -q -q"
      ],
      "metadata": {
        "executionCancelledAt": null,
        "executionTime": 3180,
        "lastExecutedAt": 1756659661304,
        "lastExecutedByKernel": "52fa8de5-56d5-43db-bf4b-adba57c2dd33",
        "lastScheduledRunId": null,
        "lastSuccessfullyExecutedCode": "!pip install llama-index -q -q",
        "outputsMetadata": {
          "0": {
            "height": 80,
            "type": "stream"
          }
        },
        "collapsed": true,
        "jupyter": {
          "outputs_hidden": true,
          "source_hidden": false
        },
        "id": "9856ac66-0911-43e7-a1a4-96b91be221ae"
      },
      "id": "9856ac66-0911-43e7-a1a4-96b91be221ae",
      "cell_type": "code",
      "execution_count": null,
      "outputs": []
    },
    {
      "source": [
        "from openai import OpenAI as OpenAIClient\n",
        "\n",
        "raw_client = OpenAIClient()\n",
        "\n",
        "API_KEY   = raw_client.api_key\n",
        "API_BASE  = raw_client.base_url"
      ],
      "metadata": {
        "executionCancelledAt": null,
        "executionTime": 52,
        "lastExecutedAt": 1756659661358,
        "lastExecutedByKernel": "52fa8de5-56d5-43db-bf4b-adba57c2dd33",
        "lastScheduledRunId": null,
        "lastSuccessfullyExecutedCode": "from openai import OpenAI as OpenAIClient\n\nraw_client = OpenAIClient()\n\nAPI_KEY   = raw_client.api_key   \nAPI_BASE  = raw_client.base_url",
        "jupyter": {
          "outputs_hidden": false,
          "source_hidden": false
        },
        "id": "c5104ff9-a96d-435c-b7db-5bb6b5869c12"
      },
      "id": "c5104ff9-a96d-435c-b7db-5bb6b5869c12",
      "cell_type": "code",
      "execution_count": null,
      "outputs": []
    },
    {
      "source": [
        "With our API key in hand, and LlamaIndex installed, instantiating an LLM is one line:"
      ],
      "metadata": {
        "id": "6d48d52a-2557-49b2-9089-b2e75e6dd9a6"
      },
      "id": "6d48d52a-2557-49b2-9089-b2e75e6dd9a6",
      "cell_type": "markdown"
    },
    {
      "source": [
        "from llama_index.llms.openai import OpenAI\n",
        "\n",
        "llm = OpenAI(model=\"gpt-4o-mini\", api_base=API_BASE)"
      ],
      "metadata": {
        "executionCancelledAt": null,
        "executionTime": 49,
        "lastExecutedAt": 1756659661409,
        "lastExecutedByKernel": "52fa8de5-56d5-43db-bf4b-adba57c2dd33",
        "lastScheduledRunId": null,
        "lastSuccessfullyExecutedCode": "from llama_index.llms.openai import OpenAI\n\nllm = OpenAI(model=\"gpt-4o-mini\", api_base=API_BASE)",
        "id": "6f451d30-9277-4535-96eb-7600f147f735"
      },
      "id": "6f451d30-9277-4535-96eb-7600f147f735",
      "cell_type": "code",
      "execution_count": null,
      "outputs": []
    },
    {
      "source": [
        "We can ask our LLM questions directly without an agent, just to check it's working:"
      ],
      "metadata": {
        "id": "c8fe89be-acea-4b0f-920d-47f8d6424385"
      },
      "id": "c8fe89be-acea-4b0f-920d-47f8d6424385",
      "cell_type": "markdown"
    },
    {
      "source": [
        "response = llm.complete(\"What is the capital of South Dakota?\")\n",
        "print(response.text)"
      ],
      "metadata": {
        "executionCancelledAt": null,
        "executionTime": 892,
        "lastExecutedAt": 1756659662301,
        "lastExecutedByKernel": "52fa8de5-56d5-43db-bf4b-adba57c2dd33",
        "lastScheduledRunId": null,
        "lastSuccessfullyExecutedCode": "response = llm.complete(\"What is the capital of South Dakota?\")\nprint(response.text)",
        "outputsMetadata": {
          "0": {
            "height": 38,
            "type": "stream"
          }
        },
        "id": "0c894326-fd9b-44e3-95c6-464aee05cca8",
        "outputId": "0f9b4243-a7cc-4374-d7d8-bd6a028173af"
      },
      "id": "0c894326-fd9b-44e3-95c6-464aee05cca8",
      "cell_type": "code",
      "execution_count": null,
      "outputs": [
        {
          "output_type": "stream",
          "name": "stdout",
          "text": "The capital of South Dakota is Pierre.\n"
        }
      ]
    }
  ],
  "metadata": {
    "language_info": {
      "name": "python",
      "version": "3.10.12",
      "mimetype": "text/x-python",
      "codemirror_mode": {
        "name": "ipython",
        "version": 3
      },
      "pygments_lexer": "ipython3",
      "nbconvert_exporter": "python",
      "file_extension": ".py"
    },
    "kernelspec": {
      "display_name": "Python 3 (ipykernel)",
      "language": "python",
      "name": "python3"
    },
    "editor": "DataLab",
    "colab": {
      "provenance": []
    }
  },
  "nbformat": 4,
  "nbformat_minor": 5
}